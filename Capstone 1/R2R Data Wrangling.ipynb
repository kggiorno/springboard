{
 "cells": [
  {
   "cell_type": "markdown",
   "metadata": {},
   "source": [
    "# Import packages and load data"
   ]
  },
  {
   "cell_type": "code",
   "execution_count": 28,
   "metadata": {},
   "outputs": [
    {
     "name": "stdout",
     "output_type": "stream",
     "text": [
      "(23218, 29)\n",
      "Index(['RIN', 'Primary Key', 'Date Occurred', 'Time Occurred', 'Location',\n",
      "       'Area Command', 'Nature of Contact', 'Reason Desc', 'R2R Level',\n",
      "       'Master Subject ID', 'Subject Sex', 'Subject Race', 'Subject Ethnicity',\n",
      "       'Subject Conduct Desc', 'Subject Resistance', 'Weapon Used 1',\n",
      "       'Weapon Used 2', 'Weapon Used 3', 'Weapon Used 4', 'Weapon Used 5',\n",
      "       'Number Shots', 'Subject Effects', 'Effect on Officer',\n",
      "       'Officer Organization Desc', 'Officer Commission Date',\n",
      "       'Officer Yrs of Service', 'X-Coordinate', 'Y-Coordinate',\n",
      "       'CouncilDistrict'],\n",
      "      dtype='object')\n",
      "2902.25\n"
     ]
    }
   ],
   "source": [
    "import pandas as pd\n",
    "import glob, os\n",
    "\n",
    "path = r'/Users/kggiorno/Desktop/spring/capstone1/data'                 \n",
    "all_files = glob.glob(os.path.join(path, \"*.csv\"))\n",
    "\n",
    "df_from_each_file = (pd.read_csv(f) for f in all_files)\n",
    "concatenated_df = pd.concat(df_from_each_file, axis=0, ignore_index=True)\n",
    "\n",
    "concatenated_df = concatenated_df.rename(columns=lambda x: x.strip())\n",
    "\n",
    "concatenated_df.head()\n",
    "print(concatenated_df.shape)\n",
    "print(concatenated_df.columns)\n",
    "print(23218/8)"
   ]
  },
  {
   "cell_type": "code",
   "execution_count": 29,
   "metadata": {},
   "outputs": [
    {
     "data": {
      "text/plain": [
       "RIN                          False\n",
       "Primary Key                  False\n",
       "Date Occurred                False\n",
       "Time Occurred                 True\n",
       "Location                     False\n",
       "Area Command                  True\n",
       "Nature of Contact             True\n",
       "Reason Desc                   True\n",
       "R2R Level                     True\n",
       "Master Subject ID             True\n",
       "Subject Sex                   True\n",
       "Subject Race                  True\n",
       "Subject Ethnicity             True\n",
       "Subject Conduct Desc          True\n",
       "Subject Resistance            True\n",
       "Weapon Used 1                 True\n",
       "Weapon Used 2                 True\n",
       "Weapon Used 3                 True\n",
       "Weapon Used 4                 True\n",
       "Weapon Used 5                 True\n",
       "Number Shots                  True\n",
       "Subject Effects               True\n",
       "Effect on Officer             True\n",
       "Officer Organization Desc     True\n",
       "Officer Commission Date       True\n",
       "Officer Yrs of Service       False\n",
       "X-Coordinate                  True\n",
       "Y-Coordinate                  True\n",
       "CouncilDistrict               True\n",
       "dtype: bool"
      ]
     },
     "execution_count": 29,
     "metadata": {},
     "output_type": "execute_result"
    }
   ],
   "source": [
    "concatenated_df.isnull().any()"
   ]
  },
  {
   "cell_type": "code",
   "execution_count": 30,
   "metadata": {},
   "outputs": [
    {
     "data": {
      "text/plain": [
       "RIN                              0\n",
       "Primary Key                      0\n",
       "Date Occurred                    0\n",
       "Time Occurred                  871\n",
       "Location                         0\n",
       "Area Command                    35\n",
       "Nature of Contact               19\n",
       "Reason Desc                     22\n",
       "R2R Level                       26\n",
       "Master Subject ID              179\n",
       "Subject Sex                    729\n",
       "Subject Race                   729\n",
       "Subject Ethnicity             1021\n",
       "Subject Conduct Desc          4898\n",
       "Subject Resistance              34\n",
       "Weapon Used 1                   91\n",
       "Weapon Used 2                22077\n",
       "Weapon Used 3                23064\n",
       "Weapon Used 4                23205\n",
       "Weapon Used 5                23216\n",
       "Number Shots                 18691\n",
       "Subject Effects                 56\n",
       "Effect on Officer              725\n",
       "Officer Organization Desc       33\n",
       "Officer Commission Date         24\n",
       "Officer Yrs of Service           0\n",
       "X-Coordinate                    41\n",
       "Y-Coordinate                    41\n",
       "CouncilDistrict                171\n",
       "dtype: int64"
      ]
     },
     "execution_count": 30,
     "metadata": {},
     "output_type": "execute_result"
    }
   ],
   "source": [
    "concatenated_df.isnull().sum()"
   ]
  },
  {
   "cell_type": "code",
   "execution_count": 31,
   "metadata": {},
   "outputs": [
    {
     "data": {
      "text/plain": [
       "0.037513997760358346"
      ]
     },
     "execution_count": 31,
     "metadata": {},
     "output_type": "execute_result"
    }
   ],
   "source": [
    "871/23218"
   ]
  },
  {
   "cell_type": "code",
   "execution_count": 46,
   "metadata": {},
   "outputs": [
    {
     "name": "stdout",
     "output_type": "stream",
     "text": [
      "RIN                              0\n",
      "Primary Key                      0\n",
      "Date Occurred                    0\n",
      "Time Occurred                    0\n",
      "Location                         0\n",
      "Area Command                     0\n",
      "Nature of Contact               18\n",
      "Reason Desc                     21\n",
      "R2R Level                       25\n",
      "Master Subject ID              168\n",
      "Subject Sex                    706\n",
      "Subject Race                   706\n",
      "Subject Ethnicity              986\n",
      "Subject Conduct Desc          4688\n",
      "Subject Resistance              33\n",
      "Weapon Used 1                   90\n",
      "Weapon Used 2                21210\n",
      "Weapon Used 3                22160\n",
      "Weapon Used 4                22293\n",
      "Weapon Used 5                22304\n",
      "Number Shots                 17977\n",
      "Subject Effects                 53\n",
      "Effect on Officer              654\n",
      "Officer Organization Desc       27\n",
      "Officer Commission Date         24\n",
      "Officer Yrs of Service           0\n",
      "X-Coordinate                     0\n",
      "Y-Coordinate                     0\n",
      "CouncilDistrict                111\n",
      "dtype: int64\n",
      "(22306, 29)\n"
     ]
    }
   ],
   "source": [
    "concatenated_df.dropna(subset=['Time Occurred', 'X-Coordinate', 'Y-Coordinate'], inplace=True, how='any')\n",
    "\n",
    "print(concatenated_df.isnull().sum())\n",
    "print(concatenated_df.shape)"
   ]
  },
  {
   "cell_type": "code",
   "execution_count": null,
   "metadata": {
    "collapsed": true
   },
   "outputs": [],
   "source": []
  }
 ],
 "metadata": {
  "kernelspec": {
   "display_name": "Python 3",
   "language": "python",
   "name": "python3"
  },
  "language_info": {
   "codemirror_mode": {
    "name": "ipython",
    "version": 3
   },
   "file_extension": ".py",
   "mimetype": "text/x-python",
   "name": "python",
   "nbconvert_exporter": "python",
   "pygments_lexer": "ipython3",
   "version": "3.6.2"
  }
 },
 "nbformat": 4,
 "nbformat_minor": 2
}
