{
 "cells": [
  {
   "cell_type": "markdown",
   "metadata": {},
   "source": [
    "# What is the True Normal Human Body Temperature? \n",
    "\n",
    "#### Background\n",
    "\n",
    "The mean normal body temperature was held to be 37$^{\\circ}$C or 98.6$^{\\circ}$F for more than 120 years since it was first conceptualized and reported by Carl Wunderlich in a famous 1868 book. But, is this value statistically correct?"
   ]
  },
  {
   "cell_type": "markdown",
   "metadata": {},
   "source": [
    "#### Resources\n",
    "\n",
    "+ Information and data sources: http://www.amstat.org/publications/jse/datasets/normtemp.txt, http://www.amstat.org/publications/jse/jse_data_archive.htm\n",
    "+ Markdown syntax: http://nestacms.com/docs/creating-content/markdown-cheat-sheet\n",
    "\n",
    "****"
   ]
  },
  {
   "cell_type": "code",
   "execution_count": 25,
   "metadata": {
    "collapsed": true
   },
   "outputs": [],
   "source": [
    "import pandas as pd\n",
    "import matplotlib.pyplot as plt\n",
    "import numpy as np\n",
    "import seaborn as sns\n",
    "\n",
    "from scipy import stats\n",
    "from IPython.core.interactiveshell import InteractiveShell\n",
    "\n",
    "%matplotlib inline\n",
    " \n",
    "InteractiveShell.ast_node_interactivity = \"all\" \n",
    "df = pd.read_csv('data/human_body_temperature.csv')"
   ]
  },
  {
   "cell_type": "code",
   "execution_count": 26,
   "metadata": {},
   "outputs": [
    {
     "name": "stdout",
     "output_type": "stream",
     "text": [
      "<class 'pandas.core.frame.DataFrame'>\n",
      "RangeIndex: 130 entries, 0 to 129\n",
      "Data columns (total 3 columns):\n",
      "temperature    130 non-null float64\n",
      "gender         130 non-null object\n",
      "heart_rate     130 non-null float64\n",
      "dtypes: float64(2), object(1)\n",
      "memory usage: 3.1+ KB\n"
     ]
    },
    {
     "data": {
      "text/html": [
       "<div>\n",
       "<style>\n",
       "    .dataframe thead tr:only-child th {\n",
       "        text-align: right;\n",
       "    }\n",
       "\n",
       "    .dataframe thead th {\n",
       "        text-align: left;\n",
       "    }\n",
       "\n",
       "    .dataframe tbody tr th {\n",
       "        vertical-align: top;\n",
       "    }\n",
       "</style>\n",
       "<table border=\"1\" class=\"dataframe\">\n",
       "  <thead>\n",
       "    <tr style=\"text-align: right;\">\n",
       "      <th></th>\n",
       "      <th>temperature</th>\n",
       "      <th>gender</th>\n",
       "      <th>heart_rate</th>\n",
       "    </tr>\n",
       "  </thead>\n",
       "  <tbody>\n",
       "    <tr>\n",
       "      <th>0</th>\n",
       "      <td>99.3</td>\n",
       "      <td>F</td>\n",
       "      <td>68.0</td>\n",
       "    </tr>\n",
       "    <tr>\n",
       "      <th>1</th>\n",
       "      <td>98.4</td>\n",
       "      <td>F</td>\n",
       "      <td>81.0</td>\n",
       "    </tr>\n",
       "    <tr>\n",
       "      <th>2</th>\n",
       "      <td>97.8</td>\n",
       "      <td>M</td>\n",
       "      <td>73.0</td>\n",
       "    </tr>\n",
       "    <tr>\n",
       "      <th>3</th>\n",
       "      <td>99.2</td>\n",
       "      <td>F</td>\n",
       "      <td>66.0</td>\n",
       "    </tr>\n",
       "    <tr>\n",
       "      <th>4</th>\n",
       "      <td>98.0</td>\n",
       "      <td>F</td>\n",
       "      <td>73.0</td>\n",
       "    </tr>\n",
       "  </tbody>\n",
       "</table>\n",
       "</div>"
      ],
      "text/plain": [
       "   temperature gender  heart_rate\n",
       "0         99.3      F        68.0\n",
       "1         98.4      F        81.0\n",
       "2         97.8      M        73.0\n",
       "3         99.2      F        66.0\n",
       "4         98.0      F        73.0"
      ]
     },
     "execution_count": 26,
     "metadata": {},
     "output_type": "execute_result"
    },
    {
     "data": {
      "text/plain": [
       "(130, 3)"
      ]
     },
     "execution_count": 26,
     "metadata": {},
     "output_type": "execute_result"
    }
   ],
   "source": [
    "# Investigate the loaded dataframe.\n",
    "df.info()\n",
    "df.head()\n",
    "df.shape"
   ]
  },
  {
   "cell_type": "markdown",
   "metadata": {},
   "source": [
    "# Question 1\n",
    "\n",
    "Is the distribution of body temperatures normal?\n",
    "\n",
    "Although this is not a requirement for CLT to hold (read CLT carefully), it gives us some peace of mind that the population may also be normally distributed if we assume that this sample is representative of the population."
   ]
  },
  {
   "cell_type": "code",
   "execution_count": 27,
   "metadata": {},
   "outputs": [
    {
     "data": {
      "text/plain": [
       "<matplotlib.axes._subplots.AxesSubplot at 0x1185a6358>"
      ]
     },
     "execution_count": 27,
     "metadata": {},
     "output_type": "execute_result"
    },
    {
     "data": {
      "text/plain": [
       "<matplotlib.axes._subplots.AxesSubplot at 0x11873d080>"
      ]
     },
     "execution_count": 27,
     "metadata": {},
     "output_type": "execute_result"
    },
    {
     "data": {
      "text/plain": [
       "<matplotlib.text.Text at 0x118747390>"
      ]
     },
     "execution_count": 27,
     "metadata": {},
     "output_type": "execute_result"
    },
    {
     "data": {
      "text/plain": [
       "<matplotlib.text.Text at 0x1187544a8>"
      ]
     },
     "execution_count": 27,
     "metadata": {},
     "output_type": "execute_result"
    },
    {
     "data": {
      "text/plain": [
       "<matplotlib.text.Text at 0x11877d710>"
      ]
     },
     "execution_count": 27,
     "metadata": {},
     "output_type": "execute_result"
    },
    {
     "data": {
      "text/plain": [
       "[<matplotlib.text.Text at 0x1184630b8>]"
      ]
     },
     "execution_count": 27,
     "metadata": {},
     "output_type": "execute_result"
    },
    {
     "data": {
      "image/png": "[encoded data removed]",
      "text/plain": [
       "<matplotlib.figure.Figure at 0x118587668>"
      ]
     },
     "metadata": {},
     "output_type": "display_data"
    }
   ],
   "source": [
    "# Create a figure with two plots:\n",
    "figure, (boxplot, histogram) = plt.subplots(2, sharex=True)\n",
    " \n",
    "# Add boxplot\n",
    "sns.boxplot(df.temperature, ax=boxplot)\n",
    "\n",
    "# Add histogram\n",
    "sns.distplot(df.temperature, ax=histogram)\n",
    "\n",
    "# Label axes and add title:\n",
    "plt.xlabel('Temperature ($^\\circ$F)', fontsize=12)\n",
    "plt.ylabel('PDF')\n",
    "plt.title('Distribution of Body Temperatures', fontsize=12)\n",
    "\n",
    "# Set default x-axis label on boxplot to not display\n",
    "boxplot.set(xlabel='')\n",
    "\n",
    "# Display the plots:\n",
    "plt.show()"
   ]
  },
  {
   "cell_type": "code",
   "execution_count": 28,
   "metadata": {
    "collapsed": true
   },
   "outputs": [],
   "source": [
    "# find sample count, mean, and std distribution\n",
    "sample_count = len(df['temperature'])\n",
    "sample_mean = np.mean(df['temperature'])\n",
    "sample_std = np.std(df['temperature'])\n",
    "\n",
    "# Sample a normal distribution using the sample mean and std dev\n",
    "sample_normal = np.random.normal(sample_mean, sample_std, size=10000)"
   ]
  },
  {
   "cell_type": "code",
   "execution_count": 29,
   "metadata": {
    "collapsed": true
   },
   "outputs": [],
   "source": [
    "# Define ECDF function\n",
    "def ecdf(data):\n",
    "    n = len(data) # count of samples\n",
    "    x = np.sort(data)\n",
    "    y = np.arange(1, n+1) / n\n",
    "    return x, y"
   ]
  },
  {
   "cell_type": "code",
   "execution_count": 30,
   "metadata": {
    "collapsed": true
   },
   "outputs": [],
   "source": [
    "# Compute the ECDF of the actual data and the normal distribution sample\n",
    "realX, realY = ecdf(df['temperature'])\n",
    "normalX, normalY = ecdf(sample_normal)"
   ]
  },
  {
   "cell_type": "code",
   "execution_count": 31,
   "metadata": {},
   "outputs": [
    {
     "data": {
      "image/png": "[encoded data removed]",
      "text/plain": [
       "<matplotlib.figure.Figure at 0x1a2022eb00>"
      ]
     },
     "metadata": {},
     "output_type": "display_data"
    }
   ],
   "source": [
    "# Plot the ECDFs\n",
    "fig = plt.figure(figsize=(8, 5))\n",
    "_ = plt.plot(realX, realY, marker='.', linestyle='none')\n",
    "_ = plt.plot(normalX, normalY)\n",
    "_ = plt.ylabel('ECDF')\n",
    "_ = plt.xlabel('Temperature ($^\\circ$F)')\n",
    "_ = plt.legend(('actual', 'normal sample'), loc='center right')"
   ]
  },
  {
   "cell_type": "markdown",
   "metadata": {},
   "source": [
    "From these figures, the actual data set appears to be normally distributed."
   ]
  },
  {
   "cell_type": "markdown",
   "metadata": {},
   "source": [
    "# Question 2\n",
    "\n",
    "Is the sample size large? Are the observations independent?\n",
    "* Remember that this is a condition for the CLT, and hence the statistical tests we are using, to apply."
   ]
  },
  {
   "cell_type": "code",
   "execution_count": 32,
   "metadata": {},
   "outputs": [
    {
     "name": "stdout",
     "output_type": "stream",
     "text": [
      "Sample count:  130\n"
     ]
    }
   ],
   "source": [
    "print('Sample count: ', sample_count)"
   ]
  },
  {
   "cell_type": "markdown",
   "metadata": {},
   "source": [
    "The sample size is 130, which is high enough for it to be considered large. The observations are independent, as they are distinct to different individuals (none of which influence the temperature of another individual)."
   ]
  },
  {
   "cell_type": "markdown",
   "metadata": {},
   "source": [
    "# Question 3\n",
    "\n",
    "Is the true population mean really 98.6 degrees F?\n",
    "* Q - A. Would you use a one-sample or two-sample test? Why?\n",
    "* Q - B. In this situation, is it appropriate to use the  tt  or  zz  statistic?\n",
    "* Q - C. Now try using the other test. How is the result be different? Why?"
   ]
  },
  {
   "cell_type": "markdown",
   "metadata": {},
   "source": [
    "* A - A. I would use a one-sample test because we have one set of data which we are comparing to a single value.\n",
    "* A - B. We have a large sample size but we do not know the standard deviation of the normal population, so it seems appropriate to use a t-test rather than a z-test.\n",
    "* A - C. See below"
   ]
  },
  {
   "cell_type": "code",
   "execution_count": 33,
   "metadata": {},
   "outputs": [
    {
     "name": "stdout",
     "output_type": "stream",
     "text": [
      "t-statistic: -5.47592520208\n",
      "p-value: 0.00e+00\n"
     ]
    }
   ],
   "source": [
    "# Shift the data so the mean of the data is matches the conventional mean\n",
    "mu = 98.6\n",
    "temp_shifted = df['temperature'] - sample_mean + mu\n",
    "\n",
    "# Define test statistic function\n",
    "def t_stat(data, mu=98.6):\n",
    "    return (np.mean(data) - mu) / (np.std(data) / np.sqrt(len(data)))\n",
    "\n",
    "# Compute test statistic for data\n",
    "t_obs = t_stat(df['temperature'], mu)\n",
    "\n",
    "# Define bootstrapping functions\n",
    "def bootstrap_replicate_1d(data, func):\n",
    "    return func(np.random.choice(data, size=len(data)))\n",
    "\n",
    "def draw_bs_reps(data, func, size=1):\n",
    "    bs_reps = np.empty(size)\n",
    "    for i in range(size):\n",
    "        bs_reps[i] = bootstrap_replicate_1d(data, func)\n",
    "    return bs_reps\n",
    "\n",
    "# Simulate data acquisition under the null hypothesis by bootstrapping the shifted data\n",
    "bs_t_reps = draw_bs_reps(temp_shifted, t_stat, size=10000)\n",
    "\n",
    "# Compute the p-value\n",
    "p_t_value = np.sum(np.abs(bs_t_reps) >= np.abs(t_obs)) / len(bs_t_reps)\n",
    "\n",
    "print('t-statistic:', t_obs)\n",
    "print('p-value: {:.2e}'.format(p_t_value))"
   ]
  },
  {
   "cell_type": "markdown",
   "metadata": {},
   "source": [
    "The $t$-statistic is roughly -5.476. The p-value is 0, indicating that in 10,000 trials, not a single trial produced a sample mean as extreme as our observed sample mean. This being the case, we should reject the null hypothesis, meaning that the true population mean is not 98.6."
   ]
  },
  {
   "cell_type": "code",
   "execution_count": 34,
   "metadata": {},
   "outputs": [
    {
     "name": "stdout",
     "output_type": "stream",
     "text": [
      "z-statistic: -5.47592520208\n",
      "p-value: 0.00e+00\n"
     ]
    }
   ],
   "source": [
    "# Define z-statistic function\n",
    "def z_stat(data, mu=98.6, sigma=0.7303577789050377):\n",
    "    \"\"\"Calculate z-statistic\"\"\"\n",
    "    return (np.mean(data) - mu) / (sigma / np.sqrt(len(data)))\n",
    "\n",
    "# Compute test statistic for data\n",
    "z_observed = z_stat(df['temperature'], mu) \n",
    "\n",
    "# Simulate data acquisition under the null hypothesis by bootstrapping the shifted data\n",
    "bs_z_reps = draw_bs_reps(temp_shifted, z_stat, size=10000)\n",
    "\n",
    "# Compute the p-value\n",
    "p_z_value = np.sum(np.abs(bs_z_reps) >= np.abs(z_observed)) / len(bs_z_reps)\n",
    "\n",
    "print('z-statistic:', z_observed)\n",
    "print('p-value: {:.2e}'.format(p_z_value))"
   ]
  },
  {
   "cell_type": "markdown",
   "metadata": {},
   "source": [
    "The calculated $z$-statistic matches the $t$-statistic. Since the population standard deviation isn't known, we had to use the sample standard deviation as an approximation of the population standard deviation in our $z$-stat calculation. This, along with having a large sample size, means the two matching is fairly expected."
   ]
  },
  {
   "cell_type": "markdown",
   "metadata": {},
   "source": [
    "# Question 4.\n",
    "\n",
    "Draw a small sample of size 10 from the data and repeat both tests.\n",
    "* Q - A. Which one is the correct one to use?\n",
    "* Q - B. What do you notice? What does this tell you about the difference in application of the tt and zz statistic?\n",
    "\n",
    "* A - A. The t-test is again appropriate for this scenario, as the population standard deviation isn't known, and the sample size is small.\n",
    "* A - B. See below:"
   ]
  },
  {
   "cell_type": "code",
   "execution_count": 35,
   "metadata": {},
   "outputs": [
    {
     "name": "stdout",
     "output_type": "stream",
     "text": [
      "t-statistic: -2.68826445858\n",
      "p-value: 0.0248671106512\n"
     ]
    }
   ],
   "source": [
    "# Seed the random number generator:\n",
    "np.random.seed(15)\n",
    "\n",
    "# Draw a random sample of 10 from the temperature data:\n",
    "sample = np.random.choice(df.temperature, size=10)\n",
    "\n",
    "# Save results of a one sample t-test:\n",
    "t = stats.ttest_1samp(sample, 98.6)[0]\n",
    "p = stats.ttest_1samp(sample, 98.6)[1]\n",
    "\n",
    "print('t-statistic:', t)\n",
    "print('p-value:', p)"
   ]
  },
  {
   "cell_type": "code",
   "execution_count": 36,
   "metadata": {},
   "outputs": [
    {
     "name": "stdout",
     "output_type": "stream",
     "text": [
      "z-statistic: -2.83367954733\n",
      "p-value: 0.0046015450048\n"
     ]
    }
   ],
   "source": [
    "# Calculate and save z-statistic:\n",
    "z = (np.mean(sample) - 98.6) / (np.std(sample)/np.sqrt(len(sample)))\n",
    "\n",
    "# Calculate and save p-value:\n",
    "p = stats.norm.cdf(z) * 2\n",
    "\n",
    "# Print the values for z and p:\n",
    "print('z-statistic:', z)\n",
    "print('p-value:', p)"
   ]
  },
  {
   "cell_type": "code",
   "execution_count": 37,
   "metadata": {},
   "outputs": [
    {
     "name": "stdout",
     "output_type": "stream",
     "text": [
      "-2.26215716274 2.26215716274\n"
     ]
    }
   ],
   "source": [
    "# Print the quantiles of the t-distribution corresponding to confidence level (95%) and degrees of freedom:\n",
    "print((stats.t.ppf(q=0.025, df=10-1)), (stats.t.ppf(q=0.975, df=10-1)))"
   ]
  },
  {
   "cell_type": "code",
   "execution_count": 38,
   "metadata": {},
   "outputs": [
    {
     "name": "stdout",
     "output_type": "stream",
     "text": [
      "-4.78091258593 4.78091258593\n"
     ]
    }
   ],
   "source": [
    "# Print the quantiles of the t-distribution corresponding to confidence level (99.9%) and degrees of freedom:\n",
    "print((stats.t.ppf(q=0.0005, df=10-1)), (stats.t.ppf(q=0.9995, df=10-1)))"
   ]
  },
  {
   "cell_type": "markdown",
   "metadata": {},
   "source": [
    "The test statistic falls outside the t-distribution corresponding to a 95% confidence level, but not one corresponding to a 99.9% confidence level. \n",
    "\n",
    "The p-value for the z-test is lower than both significance levels, and the p-value for the t-test indicates significance at the 95% level. \n",
    "\n",
    "Both tests provide reason to reject the null hypothesis. The difference in results reflects the nature of the two distributions, and the invalidity for the z test in this scenario. The t-distribution is wider so more variability is seen. This points towards the t-test being the less sensitive of the two."
   ]
  },
  {
   "cell_type": "markdown",
   "metadata": {
    "collapsed": true
   },
   "source": [
    "# Question 5. \n",
    "\n",
    "At what temperature should we consider someone's temperature to be \"abnormal\"?\n",
    "\n",
    "   * Start by computing the margin of error and confidence interval."
   ]
  },
  {
   "cell_type": "code",
   "execution_count": 39,
   "metadata": {},
   "outputs": [
    {
     "name": "stdout",
     "output_type": "stream",
     "text": [
      "The margin error is 0.125550964802579 degrees F\n"
     ]
    }
   ],
   "source": [
    "# Set z value for 95% confidence interval, then calculate standard error & margin error\n",
    "\n",
    "z = 1.96\n",
    "standard_error = sample_std / np.sqrt(sample_count)\n",
    "margin_error = z * standard_error\n",
    "\n",
    "print('The margin error is {} degrees F'.format(margin_error))"
   ]
  },
  {
   "cell_type": "code",
   "execution_count": 40,
   "metadata": {},
   "outputs": [
    {
     "name": "stdout",
     "output_type": "stream",
     "text": [
      "The 95% confidence interval of the data is between 96.7225 and 99.4775 degrees F\n"
     ]
    }
   ],
   "source": [
    "# Calculating and displaying 95% confidence interval on the mean\n",
    "confidence_interval = np.percentile(df['temperature'], [2.5, 97.5])\n",
    "print('The 95% confidence interval of the data is between {} and {} degrees F'.format(confidence_interval[0], confidence_interval[1]))"
   ]
  },
  {
   "cell_type": "code",
   "execution_count": 41,
   "metadata": {},
   "outputs": [
    {
     "name": "stdout",
     "output_type": "stream",
     "text": [
      "The 95% prediction interval is 96.8177295225769 - 99.68073201588466 degrees F\n"
     ]
    }
   ],
   "source": [
    "# Calculating and displaying 95% prediction interval\n",
    "prediction_interval = z * sample_std / np.sqrt(1)  \n",
    "print('The 95% prediction interval is {} - {} degrees F'.format(sample_mean - prediction_interval, sample_mean + prediction_interval))"
   ]
  },
  {
   "cell_type": "markdown",
   "metadata": {},
   "source": [
    "If someone's body temperature falls outside of the prediction interval of 96.82 - 99.48 degrees F said temperature should be considered abnormal."
   ]
  },
  {
   "cell_type": "markdown",
   "metadata": {},
   "source": [
    "# Question 6."
   ]
  },
  {
   "cell_type": "markdown",
   "metadata": {},
   "source": [
    "Is there a significant difference between males and females in normal temperature?\n",
    "\n",
    "* What test did you use and why?\n",
    "* Write a story with your conclusion in the context of the original problem."
   ]
  },
  {
   "cell_type": "markdown",
   "metadata": {},
   "source": [
    "A permutation test (2-sample) with the differences in means is appropriate for approaching this problem. I'll test whether males and females have the same distribution and similar mean temperatures. First, I'll visualize the data using some introductory EDA."
   ]
  },
  {
   "cell_type": "code",
   "execution_count": 42,
   "metadata": {},
   "outputs": [
    {
     "data": {
      "text/plain": [
       "[<matplotlib.lines.Line2D at 0x1a2043c048>]"
      ]
     },
     "execution_count": 42,
     "metadata": {},
     "output_type": "execute_result"
    },
    {
     "data": {
      "text/plain": [
       "[<matplotlib.lines.Line2D at 0x1a20315cf8>]"
      ]
     },
     "execution_count": 42,
     "metadata": {},
     "output_type": "execute_result"
    },
    {
     "data": {
      "text/plain": [
       "<matplotlib.text.Text at 0x1a203225f8>"
      ]
     },
     "execution_count": 42,
     "metadata": {},
     "output_type": "execute_result"
    },
    {
     "data": {
      "text/plain": [
       "<matplotlib.text.Text at 0x1a2032e668>"
      ]
     },
     "execution_count": 42,
     "metadata": {},
     "output_type": "execute_result"
    },
    {
     "data": {
      "text/plain": [
       "<matplotlib.legend.Legend at 0x1a2043c940>"
      ]
     },
     "execution_count": 42,
     "metadata": {},
     "output_type": "execute_result"
    },
    {
     "data": {
      "text/plain": [
       "<matplotlib.text.Text at 0x1a2040a668>"
      ]
     },
     "execution_count": 42,
     "metadata": {},
     "output_type": "execute_result"
    },
    {
     "data": {
      "image/png": "[encoded data removed]",
      "text/plain": [
       "<matplotlib.figure.Figure at 0x118463128>"
      ]
     },
     "metadata": {},
     "output_type": "display_data"
    },
    {
     "name": "stdout",
     "output_type": "stream",
     "text": [
      "The difference between the male and female mean temperatures is 0.289230769230727 degrees F\n"
     ]
    }
   ],
   "source": [
    "# Calculate and display the ECDF for the temperatures of both males and females.\n",
    "\n",
    "# Grab slices of the dataframes for both male and female specific temperatures\n",
    "male_temperatures = df[df['gender'] == 'M']['temperature']\n",
    "female_temperatures = df[df['gender'] == 'F']['temperature']\n",
    "\n",
    "# Perform ECDF calculations for each gender subset\n",
    "x_male, y_male = ecdf(male_temperatures)\n",
    "x_female, y_female = ecdf(female_temperatures)\n",
    "\n",
    "# Plot calculated ECDFs for both subsets, red for male, blue for female\n",
    "plt.plot(x_male, y_male, marker='.', linestyle='none', color='red')\n",
    "plt.plot(x_male, y_male, marker='.', linestyle='none', color='blue')\n",
    "plt.xlabel('Temperature (F)')\n",
    "plt.ylabel('ECDF')\n",
    "plt.legend(('Male', 'Female'), loc='lower right')\n",
    "plt.title('Male & Female Temperatures')\n",
    "plt.show()\n",
    "\n",
    "# Calculate and display difference between gender specific subsets\n",
    "male_female_diff = np.abs(np.mean(male_temperatures) - np.mean(female_temperatures))\n",
    "print('The difference between the male and female mean temperatures is {} degrees F'.format(male_female_diff))"
   ]
  },
  {
   "cell_type": "markdown",
   "metadata": {
    "collapsed": true
   },
   "source": [
    "The plotted ECDFs for both genders overlap signifying a very little difference between the two sets of data (0.289 degrees F). From here, we can use permutation testing to simulate the hypothesis that the two genders have identical probability distributions. \n",
    "\n",
    "We're using this hypothesis testing to examine whether the small observed difference is due to the differences in gender or by chance. Our null hypothesis is that the distributions of temperatures for males and females are identical."
   ]
  },
  {
   "cell_type": "code",
   "execution_count": 43,
   "metadata": {},
   "outputs": [
    {
     "name": "stdout",
     "output_type": "stream",
     "text": [
      "The observed difference: 0.289230769230727 degrees F\n",
      "p-value: 0.0258\n"
     ]
    }
   ],
   "source": [
    "# Define test statistic \n",
    "def diff_of_means(first_data_set, second_data_set):\n",
    "    return np.mean(first_data_set) - np.mean(second_data_set)\n",
    "\n",
    "# Compute test statistic for the observed data\n",
    "diff_obs = diff_of_means(female_temperatures, male_temperatures)\n",
    "\n",
    "# Draw permutation replicates, permute observed data, draw replicates\n",
    "perm_replicates = np.empty(10000)\n",
    "for i in range(len(perm_replicates)): \n",
    "    combined = np.concatenate((female_temperatures, male_temperatures))\n",
    "    perm_combined = np.random.permutation(combined)\n",
    "    perm_females = perm_combined[:len(female_temperatures)]\n",
    "    perm_males = perm_combined[len(female_temperatures):]\n",
    "    perm_replicates[i] = diff_of_means(perm_females, perm_males)\n",
    "\n",
    "# Compute p-value\n",
    "p_value = np.sum(abs(perm_replicates) >= abs(diff_obs)) / len(perm_replicates)\n",
    "\n",
    "print('The observed difference: {} degrees F'.format(diff_obs))\n",
    "print('p-value: {}'.format(p_value))"
   ]
  },
  {
   "cell_type": "markdown",
   "metadata": {},
   "source": [
    "Since our p-value is less than 0.05, we must reject the null hypothesis. This means that a statistically significant difference between the distribution of male and female temperatures exists, and the normal temperatures for males and females differ by a statistically significant amount."
   ]
  },
  {
   "cell_type": "markdown",
   "metadata": {},
   "source": [
    "# Conclusion\n",
    "\n",
    "The mean normal body temperature has been held to be 37$^∘$ C or 98.6$^∘$ F for more than 120 years since it was first conceptualized and reported by Carl Wunderlich in a famous 1868 book. However, our analysis indicates that this value is not statistically accurate. Instead, we found that the mean normal body temperature was computed with 95% confidence to be between 98.124 and 98.376 (with a 95% confidence interval). \n",
    "\n",
    "Additionally, we discovered a statistically significant difference between male and female temperatures of approximately 0.29$^{\\circ}$F. Females tend to have slightly warmer body temperatures than males."
   ]
  },
  {
   "cell_type": "code",
   "execution_count": null,
   "metadata": {
    "collapsed": true
   },
   "outputs": [],
   "source": []
  }
 ],
 "metadata": {
  "kernelspec": {
   "display_name": "Python 3",
   "language": "python",
   "name": "python3"
  },
  "language_info": {
   "codemirror_mode": {
    "name": "ipython",
    "version": 3
   },
   "file_extension": ".py",
   "mimetype": "text/x-python",
   "name": "python",
   "nbconvert_exporter": "python",
   "pygments_lexer": "ipython3",
   "version": "3.6.2"
  }
 },
 "nbformat": 4,
 "nbformat_minor": 1
}
